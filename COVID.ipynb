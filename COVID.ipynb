{
 "cells": [
  {
   "cell_type": "code",
   "execution_count": null,
   "metadata": {},
   "outputs": [],
   "source": [
    "from plotly.graph_objects import Figure\n",
    "\n",
    "from pandas.plotting import register_matplotlib_converters\n",
    "register_matplotlib_converters()\n",
    "#%matplotlib inline\n",
    "\n",
    "from ipywidgets import interact, widgets\n",
    "\n",
    "from IPython.core.display import display, HTML\n",
    "display(HTML(\"<style>.container { width: 100% !important; }</style>\"))"
   ]
  },
  {
   "cell_type": "code",
   "execution_count": null,
   "metadata": {},
   "outputs": [],
   "source": [
    "COUNTRIES=[\"Italy\", \"Spain\", \"France\", \"Korea, South\", \"China\", \"US\"]  # , \"Greece\", \"Singapore\"\n",
    "\n",
    "COLOR={\n",
    "    \"China\":        \"#AA381E\",\n",
    "    \"France\":       \"#0072BB\",\n",
    "    \"Greece\":       \"#0000AC\",\n",
    "    \"Italy\":        \"skyblue\",\n",
    "    \"Korea, South\": \"#0047A0\",\n",
    "    \"Singapore\":    \"#EF3340\",\n",
    "    \"Spain\":        \"#E60026\",\n",
    "    \"US\":           \"#002868\",\n",
    "    \"Vietnam\":      \"#DA251D\",\n",
    "}"
   ]
  },
  {
   "cell_type": "code",
   "execution_count": null,
   "metadata": {},
   "outputs": [],
   "source": [
    "from covid import Covid\n",
    "\n",
    "covid = Covid(COLOR)"
   ]
  },
  {
   "cell_type": "code",
   "execution_count": null,
   "metadata": {},
   "outputs": [],
   "source": [
    "def countries_scatters_wrapper(Column: list) -> Figure:  # encloses: covid, COUNTRIES\n",
    "    fig = covid.countries_scatters(\n",
    "        countries=COUNTRIES,\n",
    "        column=Column,\n",
    "        mode=\"lines+markers\",\n",
    "    )\n",
    "    \n",
    "    return fig\n",
    "\n",
    "interact(countries_scatters_wrapper, Column=widgets.Dropdown(options=covid.columns()))\n",
    "\n",
    "None"
   ]
  },
  {
   "cell_type": "code",
   "execution_count": null,
   "metadata": {},
   "outputs": [],
   "source": [
    "covid.countries_subplots(COUNTRIES)"
   ]
  },
  {
   "cell_type": "code",
   "execution_count": null,
   "metadata": {},
   "outputs": [],
   "source": [
    "per_country_total_active_df = covid.per_country_max_df(\"Total Active\")\n",
    "\n",
    "top_countries = list(per_country_total_active_df.index)[0:24]\n",
    "\n",
    "def country_subplot_wrapper(Country: str) -> Figure:  # encloses: covid\n",
    "    def country_subplot(country: str) -> Figure:\n",
    "        return covid.countries_subplots([country])\n",
    "\n",
    "    return country_subplot(Country)\n",
    "\n",
    "interact(country_subplot_wrapper, Country=widgets.Dropdown(options=top_countries))\n",
    "\n",
    "None"
   ]
  },
  {
   "cell_type": "code",
   "execution_count": null,
   "metadata": {},
   "outputs": [],
   "source": [
    "covid.countries_bar_chart(\"Total Active\", 20)"
   ]
  },
  {
   "cell_type": "code",
   "execution_count": null,
   "metadata": {},
   "outputs": [],
   "source": [
    "def whatevers_bar_chart_wrapper(Whatever: str) -> Figure:  # encloses: covid\n",
    "    return covid.whatevers_bar_chart(whatever=Whatever.lower())\n",
    "\n",
    "interact(whatevers_bar_chart_wrapper, Whatever=widgets.Dropdown(options=covid.whatevers_bar_chart_whatevers()))\n",
    "\n",
    "None"
   ]
  },
  {
   "cell_type": "code",
   "execution_count": null,
   "metadata": {},
   "outputs": [],
   "source": [
    "COUNTRIES = [\"Italy\", \"Spain\", \"France\", \"US\"]\n",
    "THRESHOLD = 100\n",
    "\n",
    "def countries_shifted_scatters_wrapper(Column: str) -> Figure:\n",
    "    return covid.countries_shifted_scatters(\n",
    "        countries=COUNTRIES,\n",
    "        column=Column,\n",
    "        threshold=THRESHOLD,\n",
    "        mode=\"lines+markers\",\n",
    "    )\n",
    "\n",
    "interact(countries_shifted_scatters_wrapper, Column=covid.columns())\n",
    "\n",
    "None"
   ]
  },
  {
   "cell_type": "code",
   "execution_count": null,
   "metadata": {},
   "outputs": [],
   "source": []
  }
 ],
 "metadata": {
  "kernelspec": {
   "display_name": "Python 3",
   "language": "python",
   "name": "python3"
  },
  "language_info": {
   "codemirror_mode": {
    "name": "ipython",
    "version": 3
   },
   "file_extension": ".py",
   "mimetype": "text/x-python",
   "name": "python",
   "nbconvert_exporter": "python",
   "pygments_lexer": "ipython3",
   "version": "3.8.2"
  }
 },
 "nbformat": 4,
 "nbformat_minor": 4
}
